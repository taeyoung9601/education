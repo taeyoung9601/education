{
 "cells": [
  {
   "cell_type": "code",
   "execution_count": 2,
   "id": "895dc652-fddf-4526-9ddd-2e2991286179",
   "metadata": {},
   "outputs": [
    {
     "ename": "Exception",
     "evalue": "",
     "output_type": "error",
     "traceback": [
      "\u001b[31m---------------------------------------------------------------------------\u001b[39m",
      "\u001b[31mException\u001b[39m                                 Traceback (most recent call last)",
      "\u001b[36mCell\u001b[39m\u001b[36m \u001b[39m\u001b[32mIn[2]\u001b[39m\u001b[32m, line 1\u001b[39m\n\u001b[32m----> \u001b[39m\u001b[32m1\u001b[39m \u001b[38;5;28;01mraise\u001b[39;00m \u001b[38;5;167;01mException\u001b[39;00m\n",
      "\u001b[31mException\u001b[39m: "
     ]
    }
   ],
   "source": [
    "raise Exception"
   ]
  },
  {
   "cell_type": "code",
   "execution_count": 4,
   "id": "33987e2c-f0f9-4651-9daa-5459a6443f9d",
   "metadata": {},
   "outputs": [
    {
     "name": "stdout",
     "output_type": "stream",
     "text": [
      "try block\n",
      "e2 Test\n",
      "try block\n",
      "e2 Test\n"
     ]
    }
   ],
   "source": [
    "try:\n",
    "    print('try block');\n",
    "\n",
    "    raise BaseException('Test');\n",
    "except BaseException as e2:\n",
    "    print('e2', e2);\n",
    "except Exception as e1:\n",
    "    print('e1', e1);\n",
    "\n",
    "try:\n",
    "    print('try block');\n",
    "\n",
    "    raise BaseException('Test');\n",
    "except Exception as e1:\n",
    "    print('e1', e1);\n",
    "except BaseException as e2:\n",
    "    print('e2', e2);"
   ]
  }
 ],
 "metadata": {
  "kernelspec": {
   "display_name": "Python 3 (ipykernel)",
   "language": "python",
   "name": "python3"
  },
  "language_info": {
   "codemirror_mode": {
    "name": "ipython",
    "version": 3
   },
   "file_extension": ".py",
   "mimetype": "text/x-python",
   "name": "python",
   "nbconvert_exporter": "python",
   "pygments_lexer": "ipython3",
   "version": "3.13.2"
  }
 },
 "nbformat": 4,
 "nbformat_minor": 5
}
