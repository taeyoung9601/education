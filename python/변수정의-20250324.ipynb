{
 "cells": [
  {
   "cell_type": "code",
   "execution_count": 36,
   "id": "8dce0d69-27ce-45f8-a198-b2f41eb3d94d",
   "metadata": {},
   "outputs": [
    {
     "name": "stdout",
     "output_type": "stream",
     "text": [
      "name= Tae\n",
      "type(name) = <class 'str'>\n",
      "name2= Young\n",
      "name3= 3.14158 <class 'float'>\n",
      "name4= Kim <class 'str'>\n"
     ]
    }
   ],
   "source": [
    "# 변수 선언 및 초기화 => 변수 정의\n",
    "name = \"Tae\";\n",
    "name2: str = \"Young\";\n",
    "name3: str = 3.14158;\n",
    "name4: int = \"Kim\";\n",
    "\n",
    "print('name=' , name);\n",
    "print('type(name) =', type(name));\n",
    "print ('name2=', name2);\n",
    "print ('name3=', name3 , type(name3));\n",
    "print ('name4=', name4, type(name4));"
   ]
  },
  {
   "cell_type": "code",
   "execution_count": 40,
   "id": "7a10a0ee-3011-4ce7-94a4-7f3515699388",
   "metadata": {},
   "outputs": [
    {
     "name": "stdout",
     "output_type": "stream",
     "text": [
      "type(name)=  <class 'bool'>\n",
      "type(PI)= <class 'float'>\n"
     ]
    }
   ],
   "source": [
    "name = \"Tae\";\n",
    "age = 27;\n",
    "PI = 3.14158;\n",
    "isMale = True;\n",
    "\n",
    "print('type(name)= ' , type(isMale));\n",
    "print('type(PI)=', type(PI));"
   ]
  },
  {
   "cell_type": "code",
   "execution_count": 46,
   "id": "4188651d-72fa-48b5-b109-f8f2729ad008",
   "metadata": {},
   "outputs": [
    {
     "name": "stdout",
     "output_type": "stream",
     "text": [
      "2025-03-24 14:42:48.871763\n",
      "<class 'datetime.datetime'>\n"
     ]
    }
   ],
   "source": [
    "import datetime;\n",
    "\n",
    "now = datetime.datetime.now();\n",
    "print(now);\n",
    "print(type(now));"
   ]
  },
  {
   "cell_type": "code",
   "execution_count": 48,
   "id": "d4d89acb-0942-4bc8-bc93-780bd8845b8f",
   "metadata": {},
   "outputs": [
    {
     "name": "stdout",
     "output_type": "stream",
     "text": [
      "<class 'NoneType'>\n"
     ]
    }
   ],
   "source": [
    "temp =None ;\n",
    "\n",
    "print(type(temp));"
   ]
  }
 ],
 "metadata": {
  "kernelspec": {
   "display_name": "Python 3 (ipykernel)",
   "language": "python",
   "name": "python3"
  },
  "language_info": {
   "codemirror_mode": {
    "name": "ipython",
    "version": 3
   },
   "file_extension": ".py",
   "mimetype": "text/x-python",
   "name": "python",
   "nbconvert_exporter": "python",
   "pygments_lexer": "ipython3",
   "version": "3.13.2"
  }
 },
 "nbformat": 4,
 "nbformat_minor": 5
}
