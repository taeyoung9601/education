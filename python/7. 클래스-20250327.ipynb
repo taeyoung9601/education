{
 "cells": [
  {
   "cell_type": "markdown",
   "id": "1ada6964-42f3-4578-a49a-fa954a5da8e0",
   "metadata": {},
   "source": [
    "# 제목1\n",
    "## 제목2\n",
    "### 제목3\n",
    "# Markdown"
   ]
  },
  {
   "cell_type": "code",
   "execution_count": 21,
   "id": "c5738a13-64fa-45cc-9dbe-a0629000a3a5",
   "metadata": {},
   "outputs": [],
   "source": [
    "# 함수 블록 내에서 전역변수의 사용 with global 키워드\n",
    "# python은 전역변수와 지역변수를 완전히 구분한다\n",
    "sum = 0;"
   ]
  },
  {
   "cell_type": "code",
   "execution_count": 22,
   "id": "e7cbcebc-0ea2-480d-bac1-770989200906",
   "metadata": {},
   "outputs": [],
   "source": [
    "def add(num):\n",
    "    global sum; # 전역변수인 sum 을 사용하겠다\n",
    "    sum += num;\n",
    "    print(sum);\n",
    "    pass; # add"
   ]
  },
  {
   "cell_type": "code",
   "execution_count": 23,
   "id": "288aa8be-ff88-4798-963d-6c9b4365a522",
   "metadata": {},
   "outputs": [
    {
     "name": "stdout",
     "output_type": "stream",
     "text": [
      "1\n",
      "3\n",
      "6\n",
      "global sum: 6\n"
     ]
    }
   ],
   "source": [
    "for i in range(1, 4):\n",
    "    add(i);\n",
    "    pass;\n",
    "else:\n",
    "    print('global sum:',sum);\n",
    "    pass; # for-else"
   ]
  },
  {
   "cell_type": "code",
   "execution_count": 49,
   "id": "c64e0778-5e4d-4290-88f6-ee1b61490fd2",
   "metadata": {},
   "outputs": [],
   "source": [
    "# 2. Calculator 클래스 선언과 사용\n",
    "class Calculator: # 생성자가 없어도 자동으로 생성된다.\n",
    "    # 여기에 필드를 선언하는게 아니라\n",
    "    # 필드는 생성자 안에서, self 키워드를 이용해서 선언 및 초기화한다.\n",
    "\n",
    "    # Constructor\n",
    "    def __init__(self): # 첫번째 함수의 매개변수는 반드시 self가 되어야 한다.\n",
    "        print('__init__({}) invoked.'.format(self));\n",
    "\n",
    "        # result 란 이름의 (인스턴스) 필드 선언 및 초기화\n",
    "        self.result = 0;\n",
    "        \n",
    "        pass; # __init__\n",
    "\n",
    "    # Method\n",
    "    def add(self,num):\n",
    "        print('add({}, {}) invoked.'.format(self, num));\n",
    "\n",
    "        # result 필드에, 매개변수의 값 누적\n",
    "        self.result += num;\n",
    "        return self.result;\n",
    "        pass; # add\n",
    "    pass; # end class"
   ]
  },
  {
   "cell_type": "code",
   "execution_count": 50,
   "id": "30ef9143-4169-4e5b-b0fe-3179d172c911",
   "metadata": {},
   "outputs": [
    {
     "name": "stdout",
     "output_type": "stream",
     "text": [
      "__init__(<__main__.Calculator object at 0x000002175ACC5010>) invoked.\n",
      "<__main__.Calculator object at 0x000002175ACC5010>\n"
     ]
    }
   ],
   "source": [
    "# 파이썬에서는, 클래스의 생성자 호출해서 객체 생성시, 따로 자바의 New 연산자 같은게 없다.\n",
    "# 바로 생성자 호출로 객체가 생성된다\n",
    "calc = Calculator();\n",
    "print(calc);"
   ]
  },
  {
   "cell_type": "code",
   "execution_count": 51,
   "id": "653b3a4c-2eea-4896-a4cf-cab2c9b7c99d",
   "metadata": {},
   "outputs": [
    {
     "name": "stdout",
     "output_type": "stream",
     "text": [
      "['__class__', '__delattr__', '__dict__', '__dir__', '__doc__', '__eq__', '__firstlineno__', '__format__', '__ge__', '__getattribute__', '__getstate__', '__gt__', '__hash__', '__init__', '__init_subclass__', '__le__', '__lt__', '__module__', '__ne__', '__new__', '__reduce__', '__reduce_ex__', '__repr__', '__setattr__', '__sizeof__', '__static_attributes__', '__str__', '__subclasshook__', '__weakref__', 'add', 'result']\n"
     ]
    }
   ],
   "source": [
    "print(dir(calc));"
   ]
  },
  {
   "cell_type": "code",
   "execution_count": 52,
   "id": "a052387c-5418-46a7-bc29-4fa40864ef65",
   "metadata": {},
   "outputs": [
    {
     "name": "stdout",
     "output_type": "stream",
     "text": [
      "add(<__main__.Calculator object at 0x000002175ACC5010>, 100) invoked.\n"
     ]
    }
   ],
   "source": [
    "# add 메소드 호출\n",
    "calc.add(100);"
   ]
  },
  {
   "cell_type": "code",
   "execution_count": 58,
   "id": "482f53cb-8074-429c-9797-3f33c7ac3f05",
   "metadata": {},
   "outputs": [],
   "source": [
    "# 클래스 선언 문법 익히기\n",
    "\n",
    "class Person:\n",
    "\n",
    "    def __init__(self, name, age=31):\n",
    "        print('Constructor({},{}) invoked.'.format(name,age));\n",
    "        self.name = name; # name 인스턴스 필드 선언 및 초기화\n",
    "        self.age = age; # age 인스턴스 필드 선언 및 초기화\n",
    "        pass; # __init__\n",
    "\n",
    "    def say_hello(self): # 인스턴스 메소드 선언, 매개변수는 없음\n",
    "        print('say_hello() invoked.');\n",
    "        # return 'Hello!, name: {}, age: {}'.format(self.name, self.age);\n",
    "        return 'Hello!, name: {}, age: {}'.format(self.getName(), self.getAge()); # 같음\n",
    "        pass; # say_hello\n",
    "\n",
    "    def getName(self):\n",
    "        print('getName() invoked.');\n",
    "        return self.name;\n",
    "        pass; # getName\n",
    "\n",
    "    def getAge(self):\n",
    "        print('getAge() invoked.');\n",
    "        return self.age;\n",
    "        pass; # getAge\n",
    "    \n",
    "    pass; # end class"
   ]
  },
  {
   "cell_type": "code",
   "execution_count": 60,
   "id": "ce2094c0-807f-485b-915c-761b6eabfda1",
   "metadata": {},
   "outputs": [
    {
     "name": "stdout",
     "output_type": "stream",
     "text": [
      "Constructor(성락,31) invoked.\n",
      "<__main__.Person object at 0x000002175A82F750>\n",
      "say_hello() invoked.\n",
      "getName() invoked.\n",
      "getAge() invoked.\n",
      "Hello!, name: 성락, age: 31\n"
     ]
    }
   ],
   "source": [
    "# person = Person(\"성락\",31); #1 : Positional Arguments\n",
    "# person = Person(age=31, name='성락'); #2 : Keyword-Only Parameters\n",
    "person = Person(name=\"성락\"); # 3 : Using default value of a parameter.\n",
    "\n",
    "print(person);\n",
    "hello = person.say_hello();\n",
    "print(hello);"
   ]
  },
  {
   "cell_type": "code",
   "execution_count": 123,
   "id": "b5654852-236d-4dcf-bc2e-de492230855b",
   "metadata": {},
   "outputs": [],
   "source": [
    "class Car:\n",
    "    wheels = 4; # 정적필드 (파이썬, \"클래스 변수\")\n",
    "\n",
    "    # Constructor\n",
    "    def __init__(self, model):\n",
    "        print('Constructor({}) invoked.'.format(model));\n",
    "        \n",
    "        self.model = model;\n",
    "        self.__instanceField = 0;\n",
    "        pass; # constructor\n",
    "\n",
    "    def __getModel(self):\n",
    "        print('__getModel({}) invoked.'.format(self));\n",
    "        return self.model;\n",
    "        pass; #getModel\n",
    "\n",
    "    def instanceMethod(self):\n",
    "        print('instanceMethod() invoked.');\n",
    "        self.__getModel();\n",
    "        print('__instanceField: ',self.__instanceField);\n",
    "        pass; # instanceMethod\n",
    "\n",
    "    # 정적 메소드 선언 유형 - 1\n",
    "    @staticmethod # cls란 첫번째 매개변수 선언 필요 없음\n",
    "    def getWheels():\n",
    "        print('getWheels() invoked.');\n",
    "    \n",
    "    # @classmethod # 반드시 cls란 첫번째 매개변수 선언 필수\n",
    "    # def getWheels(cls):\n",
    "        # print('getWheels({}) invoked.'.format(cls));\n",
    "        # return cls.wheels; # 정적멤버를 접근할 때, cls 매개변수 사용\n",
    "        pass; # getWheels\n",
    "\n",
    "    # 정적 메소드 선언 유형 - 2\n",
    "    # @staticmethod : \n",
    "    # (1) 'cls' 매개변수를 반드시 제거해야 한다 => If not, 일반 매개변수로 취급한다\n",
    "    # (2) 반드시 대전제로 호출해야한다 => If not, 무조건 오류 발생\n",
    "    @staticmethod\n",
    "    def staticMethod():\n",
    "        print('staticMethod() invoked.');\n",
    "        pass; # staticMethod\n",
    "\n",
    "    pass; # end class"
   ]
  },
  {
   "cell_type": "code",
   "execution_count": 124,
   "id": "9551d571-8ce2-4b31-9447-fa56714aa6ce",
   "metadata": {},
   "outputs": [
    {
     "name": "stdout",
     "output_type": "stream",
     "text": [
      "Constructor(Avante Stick 4 Door) invoked.\n",
      "<__main__.Car object at 0x000002175B221550>\n"
     ]
    }
   ],
   "source": [
    "myCar = Car('Avante Stick 4 Door');\n",
    "print(myCar);"
   ]
  },
  {
   "cell_type": "code",
   "execution_count": 110,
   "id": "d012c6d5-82d0-427a-baf8-0cb89c209a66",
   "metadata": {},
   "outputs": [
    {
     "name": "stdout",
     "output_type": "stream",
     "text": [
      "4\n",
      "4\n"
     ]
    }
   ],
   "source": [
    "# 정적필드 사용하기 - 대전제: 정적멤버는 정적멤버답게 사용하라\n",
    "print(myCar.wheels); # XX : 참조변수로 사용가능하나, 대전제에 위배된다\n",
    "print(Car.wheels);  # OK : 대전제답게 사용한다"
   ]
  },
  {
   "cell_type": "code",
   "execution_count": 111,
   "id": "9d11c0b8-bd6d-4ddc-932d-aa3198ea0a12",
   "metadata": {},
   "outputs": [
    {
     "name": "stdout",
     "output_type": "stream",
     "text": [
      "getWheels() invoked.\n",
      "None\n",
      "getWheels() invoked.\n",
      "None\n"
     ]
    }
   ],
   "source": [
    "# 정적 메소드를 호출해보자\n",
    "print(myCar.getWheels()); # xx : 참조변수로 사용 가능하지만, 대전제에 위배된다\n",
    "print(Car.getWheels()); # OK : 대전제답게 사용한다."
   ]
  },
  {
   "cell_type": "code",
   "execution_count": 112,
   "id": "ab4608e8-54d6-45e0-83d0-ca0975414cb3",
   "metadata": {},
   "outputs": [
    {
     "name": "stdout",
     "output_type": "stream",
     "text": [
      "staticMethod() invoked.\n"
     ]
    }
   ],
   "source": [
    "# 정적 메소드를 호출해보자! - 대전제 : 정적멤버는 정적멤버답게 사용하라\n",
    "# myCar.staticMethod(); # XX : AttributeError\n",
    "Car.staticMethod(); # XX : TypeError - 첫번째 매개변수인 cls를, 일반 매개변수로 취급한다"
   ]
  },
  {
   "cell_type": "code",
   "execution_count": 126,
   "id": "56cf6017-de39-449c-85c8-b1bfaf6b423f",
   "metadata": {},
   "outputs": [
    {
     "name": "stdout",
     "output_type": "stream",
     "text": [
      "instanceMethod() invoked.\n",
      "__getModel(<__main__.Car object at 0x000002175B221550>) invoked.\n",
      "__instanceField:  0\n",
      "None\n"
     ]
    }
   ],
   "source": [
    "# 접근제한자의 효력이 있는가?\n",
    "# print(myCar.__getModel()); # xx : 접근불가(외부)\n",
    "print(myCar.instanceMethod()); # OK : 접근가능(내부)\n",
    "# print(myCar.__instanceField()); # XX : 접근 불가(외부)\n"
   ]
  },
  {
   "cell_type": "code",
   "execution_count": 215,
   "id": "4f99dfb9-a267-4bfa-9b5c-972b06fd64fb",
   "metadata": {},
   "outputs": [],
   "source": [
    "# 상속\n",
    "class Parent1:\n",
    "    \n",
    "    def greet(self):\n",
    "        print(f'Parent1: :greet1({self}) invoked.');\n",
    "        pass; # greet\n",
    "        \n",
    "    pass; # end class"
   ]
  },
  {
   "cell_type": "code",
   "execution_count": 216,
   "id": "831a08c3-aedb-48ac-882e-aee98b5cb3e5",
   "metadata": {},
   "outputs": [],
   "source": [
    "# 상속\n",
    "class Parent2:\n",
    "    \n",
    "    def greet(self):\n",
    "        print(f'Parent2: :greet2({self}) invoked.');\n",
    "        pass; # greet\n",
    "        \n",
    "    pass; # end class"
   ]
  },
  {
   "cell_type": "code",
   "execution_count": 218,
   "id": "d2b434d2-de04-4a82-8839-44d10d21ab2c",
   "metadata": {},
   "outputs": [],
   "source": [
    "# class Child(Parent1, Parent2):\n",
    "class Child(Parent2, Parent1):\n",
    "\n",
    "    def greet(self):\n",
    "        print(f'Child: :greet({self}) invoked.');\n",
    "        print(f'super(): {super()}');\n",
    "        \n",
    "        super().greet(); # 부모객체의 greet 메소드 호출\n",
    "        \n",
    "        pass; # greet\n",
    "    \n",
    "    pass; # end class"
   ]
  },
  {
   "cell_type": "code",
   "execution_count": 219,
   "id": "fe308b26-9568-4b16-845d-4f3cdffa7c08",
   "metadata": {},
   "outputs": [
    {
     "name": "stdout",
     "output_type": "stream",
     "text": [
      "Child: <__main__.Child object at 0x000002175B222F90>\n"
     ]
    }
   ],
   "source": [
    "child = Child();\n",
    "print(f'Child: {child}');"
   ]
  },
  {
   "cell_type": "code",
   "execution_count": 221,
   "id": "ce4c8805-8439-40e2-9df7-fc9bca1a305e",
   "metadata": {},
   "outputs": [
    {
     "name": "stdout",
     "output_type": "stream",
     "text": [
      "Child: :greet(<__main__.Child object at 0x000002175B222F90>) invoked.\n",
      "super(): <super: <class 'Child'>, <Child object>>\n",
      "Parent2: :greet2(<__main__.Child object at 0x000002175B222F90>) invoked.\n"
     ]
    }
   ],
   "source": [
    "child.greet();"
   ]
  },
  {
   "cell_type": "code",
   "execution_count": 223,
   "id": "7996bc13-ca83-4454-aac7-ac352d5ab215",
   "metadata": {},
   "outputs": [],
   "source": [
    "# print(child.mro());"
   ]
  },
  {
   "cell_type": "code",
   "execution_count": 231,
   "id": "92cc65b5-7017-4cd6-a3ac-6349d36c8e50",
   "metadata": {},
   "outputs": [
    {
     "name": "stdout",
     "output_type": "stream",
     "text": [
      "['ABC',\n",
      " 'ABCMeta',\n",
      " '__builtins__',\n",
      " '__doc__',\n",
      " '__file__',\n",
      " '__loader__',\n",
      " '__name__',\n",
      " '__package__',\n",
      " '__spec__',\n",
      " '_abc_init',\n",
      " '_abc_instancecheck',\n",
      " '_abc_register',\n",
      " '_abc_subclasscheck',\n",
      " '_get_dump',\n",
      " '_reset_caches',\n",
      " '_reset_registry',\n",
      " 'abstractclassmethod',\n",
      " 'abstractmethod',\n",
      " 'abstractproperty',\n",
      " 'abstractstaticmethod',\n",
      " 'get_cache_token',\n",
      " 'update_abstractmethods']\n"
     ]
    }
   ],
   "source": [
    "# import abc;\n",
    "from abc import abstractmethod;\n",
    "from pprint import pprint;\n",
    "pprint(dir(abc));"
   ]
  },
  {
   "cell_type": "code",
   "execution_count": 256,
   "id": "3c8f91e1-402b-46ef-8c9e-4791102e8a3f",
   "metadata": {},
   "outputs": [],
   "source": [
    "# 상속 기반의 다형성 구현\n",
    "from abc import abstractmethod, ABC;\n",
    "\n",
    "# 클래스 선언시, ABC 클래스를 상속받으면, \"추상클래스\"가 된다.\n",
    "# 하지만, 단순 추상클래스라고 해서, 객체를 생성 못하는게 아니라,\n",
    "# 클래스 블록 안에 반드시 1개 이상의 추상 메소드가 있어야, 추상 클래스 객체를 생성할 수 없다.\n",
    "class Animal(ABC):\n",
    "\n",
    "    @abstractmethod\n",
    "    def sound(self): # 추상메소드 선언\n",
    "        print(f'sound() invoked.');\n",
    "        pass; # sound\n",
    "\n",
    "    pass; # end class"
   ]
  },
  {
   "cell_type": "code",
   "execution_count": 262,
   "id": "8ec6f1fd-e2a2-4ada-84e9-65a968dc19eb",
   "metadata": {},
   "outputs": [],
   "source": [
    "class Dog(Animal):\n",
    "\n",
    "    def sound(self):\n",
    "        print(f'sound(멍멍) invoked.');\n",
    "        pass; # sound\n",
    "    \n",
    "    pass; # end class"
   ]
  },
  {
   "cell_type": "code",
   "execution_count": 263,
   "id": "d1ad38c6-d12f-4156-9143-a2f49050d8f2",
   "metadata": {},
   "outputs": [
    {
     "name": "stdout",
     "output_type": "stream",
     "text": [
      "dog = <__main__.Dog object at 0x000002175ACC6E40>\n",
      "sound(멍멍) invoked.\n"
     ]
    }
   ],
   "source": [
    "dog = Dog();\n",
    "print(f'dog = {dog}');\n",
    "# print(dog.sound());\n",
    "dog.sound();"
   ]
  },
  {
   "cell_type": "code",
   "execution_count": 264,
   "id": "950f2f9d-db75-461d-baed-15badbb15b7d",
   "metadata": {},
   "outputs": [
    {
     "name": "stdout",
     "output_type": "stream",
     "text": [
      "<__main__.Dog object at 0x000002175B879310> <class '__main__.Dog'>\n"
     ]
    }
   ],
   "source": [
    "animal: Animal = Dog(); # \n",
    "print(animal, type(animal));"
   ]
  },
  {
   "cell_type": "code",
   "execution_count": 265,
   "id": "fc198180-38f0-4164-8cf5-8c1b11a60d49",
   "metadata": {},
   "outputs": [
    {
     "name": "stdout",
     "output_type": "stream",
     "text": [
      "sound(멍멍) invoked.\n"
     ]
    }
   ],
   "source": [
    "animal.sound();"
   ]
  },
  {
   "cell_type": "code",
   "execution_count": 266,
   "id": "ebdf0bf6-6851-42a3-9eb5-67a211f16fbc",
   "metadata": {},
   "outputs": [],
   "source": [
    "# obj = Animal();"
   ]
  },
  {
   "cell_type": "code",
   "execution_count": 273,
   "id": "8fed991d-f848-4786-a85b-1f2ff5e23b5c",
   "metadata": {},
   "outputs": [],
   "source": [
    "# Positional-Only Directive ('/' symble) in the method parameter declaration\n",
    "# def pointPerson(name,age, /): # Positional-Only directive\n",
    "def pointPerson(name, /, age): # Positional-Only directive\n",
    "    print(f'pointPerson({name},{age}) invoked.');\n",
    "    pass; # pointPerson"
   ]
  },
  {
   "cell_type": "code",
   "execution_count": 274,
   "id": "957d0c1b-7384-430d-80d3-599dfbe4d132",
   "metadata": {},
   "outputs": [
    {
     "name": "stdout",
     "output_type": "stream",
     "text": [
      "pointPerson(성락,31) invoked.\n"
     ]
    }
   ],
   "source": [
    "pointPerson(\"성락\", 31); # Positional arguments\n",
    "# pointPerson(age=31, name='성락'); # Keyword-only parameters"
   ]
  },
  {
   "cell_type": "code",
   "execution_count": 275,
   "id": "c0f3a003-8d24-4bc3-9ced-5b3a9ce9ad7a",
   "metadata": {},
   "outputs": [
    {
     "name": "stdout",
     "output_type": "stream",
     "text": [
      "pointPerson(성락,31) invoked.\n",
      "pointPerson(성락,31) invoked.\n"
     ]
    }
   ],
   "source": [
    "# with positional-only directive\n",
    "pointPerson('성락', 31);\n",
    "pointPerson('성락',age=31);"
   ]
  },
  {
   "cell_type": "code",
   "execution_count": null,
   "id": "dd1a862b-47ff-4edf-a265-3f3be9cf4b85",
   "metadata": {},
   "outputs": [],
   "source": []
  },
  {
   "cell_type": "code",
   "execution_count": null,
   "id": "7d5f5e59-5fcf-40a5-b69d-50a7bcb0b64d",
   "metadata": {},
   "outputs": [],
   "source": []
  }
 ],
 "metadata": {
  "kernelspec": {
   "display_name": "Python 3 (ipykernel)",
   "language": "python",
   "name": "python3"
  },
  "language_info": {
   "codemirror_mode": {
    "name": "ipython",
    "version": 3
   },
   "file_extension": ".py",
   "mimetype": "text/x-python",
   "name": "python",
   "nbconvert_exporter": "python",
   "pygments_lexer": "ipython3",
   "version": "3.13.2"
  }
 },
 "nbformat": 4,
 "nbformat_minor": 5
}
