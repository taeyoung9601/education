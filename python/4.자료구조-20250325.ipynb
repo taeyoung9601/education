{
 "cells": [
  {
   "cell_type": "code",
   "execution_count": 8,
   "id": "53bcd923-8aba-49a5-b4a3-3b90a7377528",
   "metadata": {},
   "outputs": [
    {
     "name": "stdout",
     "output_type": "stream",
     "text": [
      "[23, 24, 25, 26, 27, 27, 'NAME', True] ,type: <class 'list'>\n",
      "{23, 24, 25, 26, 27} ,type: <class 'set'>\n",
      "{1: 23, 2: 24, 3: 25, 4: 26, 5: 27, 6: 27, 7: 27} ,type: <class 'dict'>\n",
      "(23, 24, 25, 26, 27, 27, 27) ,type: <class 'tuple'>\n"
     ]
    }
   ],
   "source": [
    "#파이썬의 자료구조 -리스트(lIst == Array), 셋(Set), 딕셔너리(Dictionary == Map),튜플(Tuple,Read-Only)\n",
    "\n",
    "#(1) 리스트(= 배열, 언어차원에서 제공되는 별도의 배열이 없습니다.)\n",
    "#    특징: 순서를 보장하고, 대신 중복을 허용\n",
    "ages = [ 23,24,25,26,27,27,\"NAME\", True];\n",
    "print(ages, ',type:', type(ages));\n",
    "\n",
    "#(2) 집합(Set)\n",
    "#   특징: 순서를 보장하지는 않지만, 대신 중복을 허용하지 않는다\n",
    "ages2 = {23,24,25,26,27,27,27};\n",
    "print(ages2, ',type:', type(ages2));\n",
    "\n",
    "#(3) 딕셔너리(Dictionary, 사전, 맵과 같은 개념)\n",
    "#    특징 : Key: value 쌍으로 된 요소, 오로지 Key를 통해서 빠르게 Value 획득\n",
    "#          대신 Key는 중복을 허용하지 않고, 고유해야한다.\n",
    "ages3 = {1: 23,2: 24,3: 25,4: 26,5: 27,6: 27,7: 27}\n",
    "print(ages3, ',type:', type(ages3));\n",
    "\n",
    "#(4) 튜플(Tuple) - 읽기 전용의 컬렉션\n",
    "#                  한번 생성되면, CUD가 안되요.\n",
    "ages4 = (23,24,25,26,27,27,27);\n",
    "print(ages4, ',type:', type(ages4));"
   ]
  },
  {
   "cell_type": "code",
   "execution_count": 9,
   "id": "29103b8b-81d5-45f8-ac79-db33631f12d1",
   "metadata": {},
   "outputs": [
    {
     "name": "stdout",
     "output_type": "stream",
     "text": [
      "b\n",
      "False\n"
     ]
    }
   ],
   "source": [
    "a = [1,2,3,['a','b','c']];\n",
    "print(a[3][1]);\n",
    "\n",
    "a = [1,2,3, ['a','b', [True,False]]];\n",
    "print(a[3][2][1]);"
   ]
  },
  {
   "cell_type": "code",
   "execution_count": 10,
   "id": "de04759c-701b-47ff-a660-7880fd26f811",
   "metadata": {},
   "outputs": [
    {
     "name": "stdout",
     "output_type": "stream",
     "text": [
      "[2, 1]\n",
      "[2, 1, 2]\n",
      "[3, 4, 5, 6, 7, 8, 9, 0]\n",
      "[2, 1, 2, 3, 4, 5, 6, 7, 8, 9, 0]\n"
     ]
    }
   ],
   "source": [
    "#리스트의 슬라이싱(Slicing) - 체다 슬라이스 치즈를 연상하세요!\n",
    "# 문법: [:]\n",
    "\n",
    "a = [2,1,2,3,4,5,6,7,8,9,0];\n",
    "print(a[0: 2]);\n",
    "print(a[ : 3]);\n",
    "print(a[3 : ]);\n",
    "print(a[  : ]);"
   ]
  },
  {
   "cell_type": "code",
   "execution_count": 12,
   "id": "f160640c-bf0a-4313-a91d-3636875ed493",
   "metadata": {},
   "outputs": [
    {
     "name": "stdout",
     "output_type": "stream",
     "text": [
      "T\n"
     ]
    }
   ],
   "source": [
    "s = \"Tae\";\n",
    "\n",
    "print(s[0]);"
   ]
  },
  {
   "cell_type": "code",
   "execution_count": 13,
   "id": "ed250a17-0126-4f72-9c08-f31a0ffa6073",
   "metadata": {},
   "outputs": [
    {
     "name": "stdout",
     "output_type": "stream",
     "text": [
      "['__add__', '__class__', '__class_getitem__', '__contains__', '__delattr__', '__delitem__', '__dir__', '__doc__', '__eq__', '__format__', '__ge__', '__getattribute__', '__getitem__', '__getstate__', '__gt__', '__hash__', '__iadd__', '__imul__', '__init__', '__init_subclass__', '__iter__', '__le__', '__len__', '__lt__', '__mul__', '__ne__', '__new__', '__reduce__', '__reduce_ex__', '__repr__', '__reversed__', '__rmul__', '__setattr__', '__setitem__', '__sizeof__', '__str__', '__subclasshook__', 'append', 'clear', 'copy', 'count', 'extend', 'index', 'insert', 'pop', 'remove', 'reverse', 'sort']\n"
     ]
    }
   ],
   "source": [
    "# print(dir(a)); # 변수지정\n",
    "print(dir(list)); # 타입명 지정"
   ]
  },
  {
   "cell_type": "code",
   "execution_count": 14,
   "id": "7b2c5f90-3310-45f7-be2b-7c9457f3feb2",
   "metadata": {},
   "outputs": [
    {
     "name": "stdout",
     "output_type": "stream",
     "text": [
      "['__add__',\n",
      " '__class__',\n",
      " '__class_getitem__',\n",
      " '__contains__',\n",
      " '__delattr__',\n",
      " '__delitem__',\n",
      " '__dir__',\n",
      " '__doc__',\n",
      " '__eq__',\n",
      " '__format__',\n",
      " '__ge__',\n",
      " '__getattribute__',\n",
      " '__getitem__',\n",
      " '__getstate__',\n",
      " '__gt__',\n",
      " '__hash__',\n",
      " '__iadd__',\n",
      " '__imul__',\n",
      " '__init__',\n",
      " '__init_subclass__',\n",
      " '__iter__',\n",
      " '__le__',\n",
      " '__len__',\n",
      " '__lt__',\n",
      " '__mul__',\n",
      " '__ne__',\n",
      " '__new__',\n",
      " '__reduce__',\n",
      " '__reduce_ex__',\n",
      " '__repr__',\n",
      " '__reversed__',\n",
      " '__rmul__',\n",
      " '__setattr__',\n",
      " '__setitem__',\n",
      " '__sizeof__',\n",
      " '__str__',\n",
      " '__subclasshook__',\n",
      " 'append',\n",
      " 'clear',\n",
      " 'copy',\n",
      " 'count',\n",
      " 'extend',\n",
      " 'index',\n",
      " 'insert',\n",
      " 'pop',\n",
      " 'remove',\n",
      " 'reverse',\n",
      " 'sort']\n"
     ]
    }
   ],
   "source": [
    "# 내장모듈 중에, pprint (Pretty Print) 모듈에는, 모듈명과 동일한 이름의 함수 pprint 가 있습니다.\n",
    "# 이 함수를 이용하시면, 위의 리스트 같은 요소를 \"세로 방향\"으로 보기 \n",
    "from pprint import pprint as pp\n",
    "pp(dir(list)); # 타입명 지정"
   ]
  },
  {
   "cell_type": "code",
   "execution_count": 15,
   "id": "d070ea6e-1026-4126-a03e-2b3da5467a00",
   "metadata": {},
   "outputs": [
    {
     "name": "stdout",
     "output_type": "stream",
     "text": [
      "[2, 1, 2, 3, 4, 5, 6, 7, 8, 9, 0, 11]\n",
      "12\n",
      "3\n"
     ]
    }
   ],
   "source": [
    "# Create - 새로운 요소 추가\n",
    "a.append(11);\n",
    "print(a);\n",
    "print(len(a));      # 내장함수인 Len(Complex Type) 함수로, 요소의 개수를 알 수 있다.\n",
    "print(len(\"Tae\"));  # 문자열의 길이도 알 수 있다!"
   ]
  },
  {
   "cell_type": "code",
   "execution_count": 20,
   "id": "3897b21b-544a-430c-a3c9-e236f7422413",
   "metadata": {},
   "outputs": [
    {
     "data": {
      "text/plain": [
       "[2, 1, 2, 3, 4, 5, 6, 7, 8, 12, 13, 14]"
      ]
     },
     "execution_count": 20,
     "metadata": {},
     "output_type": "execute_result"
    }
   ],
   "source": [
    "a[-1] = 14;\n",
    "a[-2] = 13;\n",
    "a[-3] = 12;\n",
    "a"
   ]
  },
  {
   "cell_type": "code",
   "execution_count": 21,
   "id": "497aabc7-1f49-40ff-950e-79c98b69ba66",
   "metadata": {},
   "outputs": [
    {
     "name": "stdout",
     "output_type": "stream",
     "text": [
      "1\n",
      "2\n",
      "3\n",
      "Done\n"
     ]
    }
   ],
   "source": [
    "#Traverse\n",
    "# for item in a:  #OK\n",
    "for item in [1,2,3]:\n",
    "  pp(item);\n",
    "else:\n",
    "  print('Done');\n",
    "  pass"
   ]
  },
  {
   "cell_type": "code",
   "execution_count": null,
   "id": "af48304b-06b6-4987-8abb-630256692e6c",
   "metadata": {},
   "outputs": [],
   "source": [
    "# 모든 종류의 컬렉션은 사용이 다 끝나고 나면, 반드시 clear 시켜라.\n",
    "a.clear();\n",
    "\n",
    "print(a);"
   ]
  },
  {
   "cell_type": "code",
   "execution_count": 33,
   "id": "a472e466-fe9f-4a42-9216-6b124fd0f333",
   "metadata": {},
   "outputs": [
    {
     "name": "stdout",
     "output_type": "stream",
     "text": [
      "0\n",
      "1\n",
      "2\n",
      "3\n",
      "4\n",
      "5\n",
      "6\n",
      "7\n",
      "8\n",
      "9\n",
      "Done\n"
     ]
    }
   ],
   "source": [
    "# Set Collection 에 대한 CRUD + LIST\n",
    "b = {1,2,3,4,5,6,7,8,9,0};\n",
    "\n",
    "for item in b:\n",
    "  pp(item);\n",
    "else:\n",
    "  print('Done');\n",
    "  pass"
   ]
  },
  {
   "cell_type": "code",
   "execution_count": 51,
   "id": "4ebd03a1-1e03-482c-b9ab-7ba976cddad9",
   "metadata": {},
   "outputs": [
    {
     "data": {
      "text/plain": [
       "{8, 9, 10, 11, 12}"
      ]
     },
     "execution_count": 51,
     "metadata": {},
     "output_type": "execute_result"
    }
   ],
   "source": [
    "b.add(10);\n",
    "b.add(11);\n",
    "b.add(12);\n",
    "b"
   ]
  },
  {
   "cell_type": "code",
   "execution_count": null,
   "id": "ac8f49ad-f638-4825-bf91-b83580101f9b",
   "metadata": {},
   "outputs": [],
   "source": [
    "#리스트와 셋의 pop() 메소드 : 앞에서부터 하나씩 요소를 빼내서(삭제) 반환\n",
    "# item1 = b.pop();\n",
    "# item2 = a.pop();"
   ]
  },
  {
   "cell_type": "code",
   "execution_count": 63,
   "id": "31c14c58-0cf8-49e6-aa7e-59961237d3db",
   "metadata": {},
   "outputs": [
    {
     "name": "stdout",
     "output_type": "stream",
     "text": [
      "[11, 12]\n",
      "11\n"
     ]
    }
   ],
   "source": [
    "# Read - 지정된 요소를 출력하자!\n",
    "# 셋은 직접 특정 요소를 얻어내는 메소드가 없음 -> 리스트로 변환해서 사용\n",
    "\n",
    "tempList = list(b);    # Set -> List 로 변환 with 생성자를 이요\n",
    "print(tempList);\n",
    "print(tempList[0]);"
   ]
  },
  {
   "cell_type": "code",
   "execution_count": 66,
   "id": "fe7986d5-311e-4a65-b723-0280b048e455",
   "metadata": {},
   "outputs": [
    {
     "name": "stdout",
     "output_type": "stream",
     "text": [
      "(*others)\n"
     ]
    }
   ],
   "source": [
    "# 함수나 메소드의 시그니처를 알 수 있는 방법. (내장 모듈: inspect)\n",
    "# 단, 사용예제까지는 보여주는 기능은 없습니다.\n",
    "\n",
    "from inspect import signature as sig\n",
    "print(sig(b.update));\n"
   ]
  },
  {
   "cell_type": "code",
   "execution_count": 77,
   "id": "e1b7818c-49a2-4d46-9cbe-5675f067e26e",
   "metadata": {},
   "outputs": [
    {
     "name": "stdout",
     "output_type": "stream",
     "text": [
      "['b', 11, 12, 1]\n",
      "{'b', 11, 12, 1}\n"
     ]
    }
   ],
   "source": [
    "#Update - 여러 요소 값을, 한꺼번에 추가할 때 사용\n",
    "# 떄문에, 셋은 특정 요소의 값을 Read or Update 를 위한 별도의 메소드가 없기 때문에\n",
    "# 주로 리스트로 변환해서 수정합니다.\n",
    "\n",
    "# b.update(['a','b']);\n",
    "tempList = list(b);      # Set -> List\n",
    "tempList[3] = 1;         \n",
    "\n",
    "b = set(tempList);       # List -> Set\n",
    "\n",
    "print(tempList);\n",
    "print(b);"
   ]
  },
  {
   "cell_type": "code",
   "execution_count": 6,
   "id": "0d32d18c-b3d8-49da-a2d0-9dfb1c748cb6",
   "metadata": {},
   "outputs": [
    {
     "name": "stdout",
     "output_type": "stream",
     "text": [
      "(1, 2, 3, 4, 5)\n",
      "2\n",
      "5\n",
      "(1, 2, 3, 4, 5)\n",
      "(1, 2, 3, 4)\n",
      "(2, 3, 4)\n"
     ]
    }
   ],
   "source": [
    "##### 특징 : 튜플의 리스트와 동일하게 인덱스 번호로 접근 가능\n",
    "# 읽기 전용의 자료구조인 튜플의 요소 삭제/변경\n",
    "\n",
    "\n",
    "# 변경작업 시도\n",
    "# tup[0] = 100;      # XX : Not supported\n",
    "# del tup[0];          # XX : No support item deletion\n",
    "\n",
    "tup = (1,2,3,4,5);\n",
    "print(tup);\n",
    "\n",
    "index = tup.index(3);\n",
    "print(index);\n",
    "print(len(tup));\n",
    "\n",
    "print( tup[ : ]);\n",
    "print( tup[ :-1]);\n",
    "print( tup[1: -1]);"
   ]
  },
  {
   "cell_type": "code",
   "execution_count": 8,
   "id": "c58088e4-a6fd-4c7f-ba41-0d645e6b2a49",
   "metadata": {},
   "outputs": [],
   "source": [
    "outNames = {1: 'NAME_1', 2:'NAME_2', 3:'NAME_3'};\n"
   ]
  },
  {
   "cell_type": "code",
   "execution_count": 11,
   "id": "731e62b1-778e-4c50-bf25-55f56da6a9f7",
   "metadata": {},
   "outputs": [
    {
     "name": "stdout",
     "output_type": "stream",
     "text": [
      "key: 1, value:NAME_1\n",
      "key: 2, value:NAME_2\n",
      "key: 3, value:NAME_3\n"
     ]
    }
   ],
   "source": [
    "# Traverse - 순회\n",
    "\n",
    "for key in outNames:\n",
    "    value = outNames.get(key);\n",
    "    print(\"key: {}, value:{}\".format(key,value));\n",
    "    pass"
   ]
  },
  {
   "cell_type": "raw",
   "id": "030b6b3e-6a72-4cbc-9907-2e5ec2ae54b0",
   "metadata": {},
   "source": [
    "# 파이썬의 딕셔너리(맵)은 인덱싱 가능하다\n",
    "1. 인덱스 번호는 없다. 그럼 어떻게 인덱싱이 가능하냐?\n",
    "2. 인덱싱? 대괄호[] 기호 안에, 인덱스 번호 지정하는 방법 -> 맵은 key만 있지, 인덱스 번호는 없다\n",
    "3. 인덱싱에 지정하는 것이, 인덱스 번호가 아니라, 맵의 key 값을 지정"
   ]
  },
  {
   "cell_type": "code",
   "execution_count": 12,
   "id": "efdb5dad-18ba-47f8-86e3-07db742f332a",
   "metadata": {},
   "outputs": [
    {
     "name": "stdout",
     "output_type": "stream",
     "text": [
      "NAME_1 NAME_2 NAME_3\n"
     ]
    }
   ],
   "source": [
    "# Read - 맵의 기존 특정 요소를 읽어내기 => map 변수 [key]\n",
    "print (outNames[1],outNames[2],outNames[3]);"
   ]
  },
  {
   "cell_type": "code",
   "execution_count": 14,
   "id": "ab2af1f7-df2a-41bb-ad4e-9c868808d44e",
   "metadata": {},
   "outputs": [
    {
     "name": "stdout",
     "output_type": "stream",
     "text": [
      "Variable   Type     Data/Info\n",
      "-----------------------------\n",
      "index      int      2\n",
      "key        int      3\n",
      "outNames   dict     n=4\n",
      "tup        tuple    n=5\n",
      "value      str      NAME_3\n",
      "{1: 'NAME_1', 2: 'NAME_2', 3: 'NAME_3', 4: 'NAME_4'}\n"
     ]
    }
   ],
   "source": [
    "# CREATE - 새로운 요소의 추가\n",
    "outNames[4] = \"NAME_4\";\n",
    "\n",
    "%whos\n",
    "print(outNames);"
   ]
  },
  {
   "cell_type": "code",
   "execution_count": 20,
   "id": "be980042-9249-4faf-a4fb-5ac9a7a2b1e0",
   "metadata": {},
   "outputs": [
    {
     "name": "stdout",
     "output_type": "stream",
     "text": [
      "{1: 'NAME_1', 2: 'NAME_2', 3: 'NAME_3', 4: 'Tae', 5: 'kim'}\n",
      "{1: 'NAME_1', 2: 'NAME_2', 3: 'NAME_3', 4: 'Tae', 5: 'kim'}\n"
     ]
    }
   ],
   "source": [
    "# UPDATE - 기존 요소 값의 변경\n",
    "\n",
    "outNames[4] = \"Tae\";\n",
    "print(outNames);\n",
    "\n",
    "outNames.update({5: \"kim\"});\n",
    "print(outNames);"
   ]
  },
  {
   "cell_type": "code",
   "execution_count": 23,
   "id": "dd09c200-63fc-42d8-8abe-4d722a317ec0",
   "metadata": {},
   "outputs": [
    {
     "name": "stdout",
     "output_type": "stream",
     "text": [
      "{1: 'NAME_1', 2: 'NAME_2', 3: 'NAME_3', 5: 'kim'} Tae\n"
     ]
    }
   ],
   "source": [
    "# Delete - 기존 요소의 삭제\n",
    "valueToBeDeleted = outNames.pop(4);\n",
    "print(outNames, valueToBeDeleted);"
   ]
  },
  {
   "cell_type": "code",
   "execution_count": 24,
   "id": "d078df1c-029a-44c1-bd8a-9ce9ddcdd108",
   "metadata": {},
   "outputs": [
    {
     "name": "stdout",
     "output_type": "stream",
     "text": [
      "{}\n"
     ]
    }
   ],
   "source": [
    "# Clear - 모든 요소의 삭제\n",
    "outNames.clear();\n",
    "print(outNames);"
   ]
  }
 ],
 "metadata": {
  "kernelspec": {
   "display_name": "Python 3 (ipykernel)",
   "language": "python",
   "name": "python3"
  },
  "language_info": {
   "codemirror_mode": {
    "name": "ipython",
    "version": 3
   },
   "file_extension": ".py",
   "mimetype": "text/x-python",
   "name": "python",
   "nbconvert_exporter": "python",
   "pygments_lexer": "ipython3",
   "version": "3.13.2"
  }
 },
 "nbformat": 4,
 "nbformat_minor": 5
}
