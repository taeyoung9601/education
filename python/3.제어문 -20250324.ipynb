{
 "cells": [
  {
   "cell_type": "code",
   "execution_count": 9,
   "id": "9f03881a-f878-4e4f-ac98-f3ea391a3019",
   "metadata": {},
   "outputs": [
    {
     "name": "stdout",
     "output_type": "stream",
     "text": [
      "B\n",
      "C\n"
     ]
    }
   ],
   "source": [
    "# 조건문(if문) - 다른 언어와 문법은 약간 상이하지만, 의미는 동일하다!\n",
    "\n",
    "score = 87;\n",
    "\n",
    "#1. 단순 IF문\n",
    "# (주의사항) 파이썬 언어에서는, 다른 언어의 중괄호로 만들어 지는 블록을 기호를 사용하지 않고,\n",
    "# 들여쓰기를 통해서 만들어집니다.\n",
    "\n",
    "if (score > 90) :\n",
    "    print(\"A\");\n",
    "\n",
    "#2. IF-ELSE 문\n",
    "score = 87;\n",
    "\n",
    "if(score > 90) :\n",
    "    print(\"A\");\n",
    "else : print(\"B\");\n",
    "\n",
    "#3. 다중 IF 조건문\n",
    "\n",
    "score = 77;\n",
    "\n",
    "if(score >= 90) :\n",
    "    print(\"A\");\n",
    "elif (score >= 80) :\n",
    "    print(\"B\");\n",
    "else : print(\"C\");"
   ]
  },
  {
   "cell_type": "code",
   "execution_count": 3,
   "id": "83210332-a416-459d-aedf-90e5aae0f10d",
   "metadata": {},
   "outputs": [
    {
     "name": "stdout",
     "output_type": "stream",
     "text": [
      "0\n",
      "1\n",
      "2\n",
      "0\n",
      "1\n",
      "2\n",
      "Final count = 3\n"
     ]
    }
   ],
   "source": [
    "### 반복문 (while) ###\n",
    "\n",
    "count = 0;\n",
    "\n",
    "while(count < 3):\n",
    "    print(count);\n",
    "    count = count + 1;\n",
    "    pass;\n",
    "\n",
    "# 2nd method #\n",
    "\n",
    "count = 0;\n",
    "\n",
    "while(count < 3):\n",
    "    print(count);\n",
    "    count = count + 1;\n",
    "else :\n",
    "    print('Final count =' , count);\n",
    "    pass;"
   ]
  }
 ],
 "metadata": {
  "kernelspec": {
   "display_name": "Python 3 (ipykernel)",
   "language": "python",
   "name": "python3"
  },
  "language_info": {
   "codemirror_mode": {
    "name": "ipython",
    "version": 3
   },
   "file_extension": ".py",
   "mimetype": "text/x-python",
   "name": "python",
   "nbconvert_exporter": "python",
   "pygments_lexer": "ipython3",
   "version": "3.13.2"
  }
 },
 "nbformat": 4,
 "nbformat_minor": 5
}
