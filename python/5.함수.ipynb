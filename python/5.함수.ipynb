{
 "cells": [
  {
   "cell_type": "raw",
   "id": "7c8a1ac4-d5fc-43a9-98be-832f4bac69c7",
   "metadata": {},
   "source": [
    "# Stub Code:\n",
    "\n",
    "    def 함수명(매개변수 선언부):\n",
    "        실행문장...\n",
    "        pass"
   ]
  },
  {
   "cell_type": "code",
   "execution_count": 41,
   "id": "350d7091-ec25-4c50-9c58-3b6aeee96095",
   "metadata": {},
   "outputs": [],
   "source": [
    "def add(num1,num2):\n",
    "    ''' 두 정수를 받아서, 덧셈결과를 반환합니다.'''\n",
    "\n",
    "    print(\"num1:{}, num2:{}\".format(num1,num2));\n",
    "    print(\"%d + %d = %d\" %(num1, num2, num1+num2));\n",
    "    \n",
    "    return num1 + num2;\n",
    "\n",
    "    pass"
   ]
  },
  {
   "cell_type": "code",
   "execution_count": 42,
   "id": "789b35fe-85ed-4af2-a2cc-6c8fcff38d0c",
   "metadata": {},
   "outputs": [
    {
     "name": "stdout",
     "output_type": "stream",
     "text": [
      "<function add at 0x0000022BFC6B0EA0> <class 'function'>\n"
     ]
    }
   ],
   "source": [
    "print(add, type(add)); # funtion.mro() - xx : 함수는 mro() 메소드가 없습니다."
   ]
  },
  {
   "cell_type": "code",
   "execution_count": 43,
   "id": "8623c985-e401-462e-b155-1aabc569b7cb",
   "metadata": {},
   "outputs": [
    {
     "name": "stdout",
     "output_type": "stream",
     "text": [
      "num1:100, num2:200\n",
      "100 + 200 = 300\n",
      "300\n"
     ]
    }
   ],
   "source": [
    "result = add(100,200);\n",
    "print(result);"
   ]
  },
  {
   "cell_type": "code",
   "execution_count": 44,
   "id": "27f2808b-e455-4b45-8ce9-a72ff15f7033",
   "metadata": {},
   "outputs": [
    {
     "name": "stdout",
     "output_type": "stream",
     "text": [
      "<function add at 0x0000022BFC6B0EA0>\n"
     ]
    }
   ],
   "source": [
    "# 1급 객체의 성질 첫 번째 : 변수에 함수가 대입가능하다.\n",
    "addFunc = add;\n",
    "print(addFunc);"
   ]
  },
  {
   "cell_type": "code",
   "execution_count": 46,
   "id": "10703b32-86d8-49bf-a79c-a4281c7dff54",
   "metadata": {},
   "outputs": [
    {
     "name": "stdout",
     "output_type": "stream",
     "text": [
      "num1:100, num2:200\n",
      "100 + 200 = 300\n",
      "300\n"
     ]
    }
   ],
   "source": [
    "# 1급 객체의 성질 두 번째 : 함수가 대입된 변수 명으로, 함수를 호출 가능하다.\n",
    "\n",
    "print(addFunc(100,200));"
   ]
  },
  {
   "cell_type": "code",
   "execution_count": 47,
   "id": "b90680cc-342c-42ad-ace9-1aeba4e01d49",
   "metadata": {},
   "outputs": [],
   "source": [
    "# 지금부터는 ,n개의 숫자를 받아서 덧셈을 수행하고, 그 결과를 반환하는 함수를 만들어보자!!"
   ]
  },
  {
   "cell_type": "code",
   "execution_count": 80,
   "id": "d7f4af0d-4bfc-4a4f-8c0a-242a39467477",
   "metadata": {},
   "outputs": [],
   "source": [
    "# 1. 가변인자 매개변수 선언\n",
    "def superAdd(*numbers):\n",
    "    print(numbers);\n",
    "\n",
    "    # 튜플을 순회하면서, 모든 인자값을 더해서 반환하자!\n",
    "    sum = 0;\n",
    "\n",
    "    for number in numbers:\n",
    "        sum = sum + number;\n",
    "        pass\n",
    "    else:\n",
    "        print(\"{} = {}\".format(numbers, sum));\n",
    "        return sum;\n",
    "        pass\n",
    "    \n",
    "    pass"
   ]
  },
  {
   "cell_type": "code",
   "execution_count": 59,
   "id": "982c7a4c-1226-4e2e-ae6e-ac5acfb0b372",
   "metadata": {},
   "outputs": [
    {
     "name": "stdout",
     "output_type": "stream",
     "text": [
      "(1, 2, 3, 4, 5, 6)\n",
      "(1, 2, 3, 4, 5, 6) = 21\n"
     ]
    },
    {
     "data": {
      "text/plain": [
       "21"
      ]
     },
     "execution_count": 59,
     "metadata": {},
     "output_type": "execute_result"
    }
   ],
   "source": [
    "superAdd(1,2,3,4,5,6)"
   ]
  },
  {
   "cell_type": "code",
   "execution_count": 81,
   "id": "c51aebec-f722-421e-a995-4b571ef73ccc",
   "metadata": {},
   "outputs": [
    {
     "name": "stdout",
     "output_type": "stream",
     "text": [
      "()\n",
      "() = 0\n"
     ]
    }
   ],
   "source": [
    "superAdd();"
   ]
  },
  {
   "cell_type": "code",
   "execution_count": null,
   "id": "1e623de2-d7ed-4c9d-b669-8fbb0c013e05",
   "metadata": {},
   "outputs": [],
   "source": [
    "# 위치\n",
    "# 한다면, 반드시 가변인자 매개변수는 가장 마지막\n",
    "# 그래야, 위치 기반의 매개변수에 인자 값이 전달될 수 있다."
   ]
  },
  {
   "cell_type": "code",
   "execution_count": 79,
   "id": "1159da19-404a-46c0-b5fa-57b01bad63b7",
   "metadata": {},
   "outputs": [],
   "source": [
    "# def superAddVer2(*numbers, ohterNumber):   # Ok \n",
    "def superAddVer2(otherNumber, *numbers):   # Ok\n",
    "    '''첫번째 매개변수만 Positional Argument로 선언하고,\n",
    "    나머지 모든 인자 값들은 가변인자로 받아서,\n",
    "    모든 인자 값을 더한 결과를 반환하는 함수'''\n",
    "    \n",
    "    sum = otherNumber;\n",
    "\n",
    "    for number in numbers:\n",
    "        sum = sum + number;\n",
    "        pass\n",
    "    else:\n",
    "        print(\"{} = {}\".format(numbers, sum));\n",
    "        return sum;\n",
    "        pass\n",
    "        \n",
    "    pass"
   ]
  },
  {
   "cell_type": "code",
   "execution_count": 76,
   "id": "774d7269-0c4c-4701-8c9e-8a991414ecce",
   "metadata": {},
   "outputs": [
    {
     "name": "stdout",
     "output_type": "stream",
     "text": [
      "(2, 3, 4, 5, 6) = 21\n"
     ]
    }
   ],
   "source": [
    "superAddVer2(1,2,3,4,5,6);\n"
   ]
  },
  {
   "cell_type": "code",
   "execution_count": 65,
   "id": "c35cda36-3308-4ce0-a899-a0ff1da12fcb",
   "metadata": {},
   "outputs": [],
   "source": [
    "# 파이썬의 세번째 종류의 매개변수인, 키워드 매개변수(Keyword Arguments)\n",
    "# 에 대해서 이해하자!"
   ]
  },
  {
   "cell_type": "code",
   "execution_count": 66,
   "id": "cd964288-dcf0-4fd3-94ea-b065ffe2351f",
   "metadata": {},
   "outputs": [],
   "source": [
    "# 키워드 매개변수는, 마치 맵 객체의 요소를 추가할 때, key=value 쌍으로\n",
    "# 요소를 추가했듯이, 이 키워드 매개변수도 맵 요소 추가와 동일하게, key=value\n",
    "# \n",
    "def superAddVer4(**kwargs):\n",
    "    print(kwargs);\n",
    "    pass"
   ]
  },
  {
   "cell_type": "code",
   "execution_count": 85,
   "id": "e5bb7fb4-a1af-45e3-82eb-61dbbb8a8666",
   "metadata": {},
   "outputs": [
    {
     "name": "stdout",
     "output_type": "stream",
     "text": [
      "{'name': 'Tae', 'age': 27}\n",
      "{}\n"
     ]
    }
   ],
   "source": [
    "# superAddVer4(\"Tae\", 1);  # XX\n",
    "superAddVer4(name = \"Tae\", age= 27);\n",
    "superAddVer4();\n",
    "# superAddVer4(name = \"Tae\", age= 27, name=\"Kim\");  # XX"
   ]
  },
  {
   "cell_type": "code",
   "execution_count": 103,
   "id": "70f1900e-9cfa-4252-a874-b83d8eaa521d",
   "metadata": {},
   "outputs": [],
   "source": [
    "# def func(pos1=0, pos2=0, *va, kwonlu1,kwonly2, **kwargs, pos3): // XX\n",
    "def func(pos1=0, pos2=0, *va, kwonly1,kwonly2, **kwargs):\n",
    "    print(\"pos1:{}, pos2:{},va:{}, kwonly1, kwonly2, kwargs:{}\".\n",
    "         format(pos1,pos2,va, kwonly1,kwonly2, kwargs));\n",
    "    pass"
   ]
  },
  {
   "cell_type": "code",
   "execution_count": 109,
   "id": "68dc35e3-5fdf-42ef-9264-a6953caf2697",
   "metadata": {},
   "outputs": [
    {
     "ename": "SyntaxError",
     "evalue": "positional argument follows keyword argument (4166497426.py, line 15)",
     "output_type": "error",
     "traceback": [
      "  \u001b[36mCell\u001b[39m\u001b[36m \u001b[39m\u001b[32mIn[109]\u001b[39m\u001b[32m, line 15\u001b[39m\n\u001b[31m    \u001b[39m\u001b[31mkey1=\"value1\", key2=\"value2\", key3=\"value3\");\u001b[39m\n                                               ^\n\u001b[31mSyntaxError\u001b[39m\u001b[31m:\u001b[39m positional argument follows keyword argument\n"
     ]
    }
   ],
   "source": [
    "func(100, None, 1,2,3,4,kwonly1=\"Tae\", kwonly2= 27, key1=\"value1\", key2=\"value2\", key3=\"value3\");\n",
    "func(100,\n",
    "     1,2,3,4,\n",
    "     kwonly1=\"Tae\", kwonly2= 27,\n",
    "     key1=\"value1\", key2=\"value2\", key3=\"value3\");\n",
    "func(\n",
    "     1,2,3,4,\n",
    "     kwonly1=\"Tae\", kwonly2= 27,\n",
    "     key1=\"value1\", key2=\"value2\", key3=\"value3\");\n",
    "func(\n",
    "     kwonly1=\"Tae\", kwonly2= 27,\n",
    "     key1=\"value1\", key2=\"value2\", key3=\"value3\");\n",
    "func(pos1=1,100,\n",
    "     kwonly1=\"Tae\", kwonly2= 27,\n",
    "     key1=\"value1\", key2=\"value2\", key3=\"value3\");"
   ]
  }
 ],
 "metadata": {
  "kernelspec": {
   "display_name": "Python 3 (ipykernel)",
   "language": "python",
   "name": "python3"
  },
  "language_info": {
   "codemirror_mode": {
    "name": "ipython",
    "version": 3
   },
   "file_extension": ".py",
   "mimetype": "text/x-python",
   "name": "python",
   "nbconvert_exporter": "python",
   "pygments_lexer": "ipython3",
   "version": "3.13.2"
  }
 },
 "nbformat": 4,
 "nbformat_minor": 5
}
